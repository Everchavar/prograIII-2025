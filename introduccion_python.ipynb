{
  "nbformat": 4,
  "nbformat_minor": 0,
  "metadata": {
    "colab": {
      "provenance": [],
      "authorship_tag": "ABX9TyPzh8ZPjG9obZ9i3RNaXsPW",
      "include_colab_link": true
    },
    "kernelspec": {
      "name": "python3",
      "display_name": "Python 3"
    },
    "language_info": {
      "name": "python"
    }
  },
  "cells": [
    {
      "cell_type": "markdown",
      "metadata": {
        "id": "view-in-github",
        "colab_type": "text"
      },
      "source": [
        "<a href=\"https://colab.research.google.com/github/Everchavar/prograIII-2025/blob/main/introduccion_python.ipynb\" target=\"_parent\"><img src=\"https://colab.research.google.com/assets/colab-badge.svg\" alt=\"Open In Colab\"/></a>"
      ]
    },
    {
      "cell_type": "code",
      "execution_count": null,
      "metadata": {
        "colab": {
          "base_uri": "https://localhost:8080/"
        },
        "id": "e1WIO85TbxWR",
        "outputId": "8c801d44-6ed2-49ca-f7a0-32c30d3e62e3"
      },
      "outputs": [
        {
          "output_type": "stream",
          "name": "stdout",
          "text": [
            "Hola mundo\n",
            "Bienvenidos a programacion computacional III\n"
          ]
        }
      ],
      "source": [
        "print(\"Hola mundo\")\n",
        "print(\"Bienvenidos a programacion computacional III\")"
      ]
    },
    {
      "cell_type": "code",
      "source": [
        "nombre = \"Ever Chavarria\"\n",
        "edad = 5\n",
        "print (nombre,edad)\n",
        "\n",
        "edad =\"cinco\"\n",
        "print (\"Tu edad :\", edad)"
      ],
      "metadata": {
        "colab": {
          "base_uri": "https://localhost:8080/"
        },
        "id": "DrSMcwG8dKxf",
        "outputId": "bb59d310-3740-4bb1-d865-f6d72105964b"
      },
      "execution_count": null,
      "outputs": [
        {
          "output_type": "stream",
          "name": "stdout",
          "text": [
            "Ever Chavarria 5\n",
            "Tu edad : cinco\n"
          ]
        }
      ]
    },
    {
      "cell_type": "code",
      "source": [
        "num1 = 5\n",
        "num2 = 8.9\n",
        "suma = num1 + num2\n",
        "print (\"La suma es: \", suma)"
      ],
      "metadata": {
        "colab": {
          "base_uri": "https://localhost:8080/"
        },
        "id": "xxLSh5Icd1xX",
        "outputId": "3e24f696-3a18-4271-cf48-da33254fa2fa"
      },
      "execution_count": null,
      "outputs": [
        {
          "output_type": "stream",
          "name": "stdout",
          "text": [
            "La suma es:  13.9\n"
          ]
        }
      ]
    },
    {
      "cell_type": "code",
      "source": [
        "num1 =float (input (\"num1: \"))\n",
        "num2 =float (input (\"num2: \"))\n",
        "suma =float (( num1 + num2))\n",
        "print (\"La suma es: \", suma)"
      ],
      "metadata": {
        "colab": {
          "base_uri": "https://localhost:8080/"
        },
        "id": "0FqcfVmxfj4e",
        "outputId": "f1a6f9b6-2c6f-4524-ff27-59b9820fc015"
      },
      "execution_count": null,
      "outputs": [
        {
          "output_type": "stream",
          "name": "stdout",
          "text": [
            "num1: 5\n",
            "num2: 5\n",
            "La suma es:  10.0\n"
          ]
        }
      ]
    },
    {
      "cell_type": "code",
      "source": [
        "num1 =float (input (\"num1: \"))\n",
        "num2 =float (input (\"num2: \"))\n",
        "resta =float (( num1 - num2))\n",
        "print (\"La resta es: \", resta)\n"
      ],
      "metadata": {
        "colab": {
          "base_uri": "https://localhost:8080/"
        },
        "id": "oAILtqhBhyrp",
        "outputId": "f66e52c1-8f29-4546-8bb7-5f5a35ad5371"
      },
      "execution_count": null,
      "outputs": [
        {
          "output_type": "stream",
          "name": "stdout",
          "text": [
            "num1: 3\n",
            "num2: 2\n",
            "La resta es:  1.0\n"
          ]
        }
      ]
    },
    {
      "cell_type": "code",
      "source": [
        "#Restas\n",
        "res1 = int(input(\"ingrese el primer numero: \"))\n",
        "res2 = int(input(\"ingrese el segundo numero: \"))\n",
        "\n",
        "Respuesta = res1 - res2\n",
        "print(\"la resta de los numeros es:\", Respuesta)\n",
        "\n",
        "def restar_dos_numeros():\n",
        "    num1 = int(input(\"Ingrese el primer número: \"))\n",
        "    num2 = int(input(\"Ingrese el segundo número: \"))\n",
        "    return num1 - num2\n",
        "\n",
        "# Usando el resultado\n",
        "resultado = restar_dos_numeros()\n",
        "print(\"La resta de los números es:\", resultado)"
      ],
      "metadata": {
        "id": "JkHWEmqkWVAn"
      },
      "execution_count": null,
      "outputs": []
    },
    {
      "cell_type": "code",
      "source": [
        "#Hacer un ejercicio de python haciendo uso de las funciones de usuario, que convierta grados celcius a Farenheit\n",
        "def CelciusaFarenheit(c):\n",
        "   return c*1.8 + 32\n"
      ],
      "metadata": {
        "id": "DqljQ0uZWYb1"
      },
      "execution_count": null,
      "outputs": []
    },
    {
      "cell_type": "code",
      "source": [
        "def CelciusaFarenheit(c):\n",
        " return c*1.8 + 32\n",
        "\n",
        "c = int(input(\"Grados c: \"))\n",
        "f = CelciusaFarenheit(c)\n",
        "print(\"F: \", f)"
      ],
      "metadata": {
        "colab": {
          "base_uri": "https://localhost:8080/"
        },
        "id": "fJ7RtIbVYVnp",
        "outputId": "51d5243f-1947-49bb-b64c-2201a052be84"
      },
      "execution_count": null,
      "outputs": [
        {
          "output_type": "stream",
          "name": "stdout",
          "text": [
            "Grados c: 38\n",
            "F:  100.4\n"
          ]
        }
      ]
    },
    {
      "cell_type": "code",
      "source": [
        "#Hacer un ejercicio de python haciendo uso de funciones de usuario, que covierta grados Farenheit a celcius\n",
        "\n",
        "def FarenheitCelcius(f):\n",
        "   return (f-32)/1.8\n"
      ],
      "metadata": {
        "id": "05jyO62caviv"
      },
      "execution_count": null,
      "outputs": []
    },
    {
      "cell_type": "code",
      "source": [
        "  f  = float(input(\"Grados f: \"))\n",
        "  c = FarenheitCelcius(f)\n",
        "  print(\"c: \", c)"
      ],
      "metadata": {
        "colab": {
          "base_uri": "https://localhost:8080/"
        },
        "id": "V9RhuGPAcBhc",
        "outputId": "22e6fdda-1724-47f1-b7f7-308b9ffe6e16"
      },
      "execution_count": null,
      "outputs": [
        {
          "output_type": "stream",
          "name": "stdout",
          "text": [
            "Grados f: 100.4\n",
            "c:  38.0\n"
          ]
        }
      ]
    },
    {
      "cell_type": "code",
      "source": [
        "#Hacer un ejercicio en python que covierta de grados celsius a kelvin\n",
        "\n",
        "def celsiuskelvin(celsius):\n",
        "  return celsius + 273.15\n",
        "\n",
        "celsius = float(input(\"Grados celsius: \"))\n",
        "kelvin = celsiuskelvin(celsius)\n",
        "print(\"Kelvin: \", kelvin)\n"
      ],
      "metadata": {
        "colab": {
          "base_uri": "https://localhost:8080/"
        },
        "id": "FMLSBlI3e9Uw",
        "outputId": "e56eb120-871a-44d0-d5b1-fa98b69c2d7e"
      },
      "execution_count": null,
      "outputs": [
        {
          "output_type": "stream",
          "name": "stdout",
          "text": [
            "Grados celsius: 35\n",
            "Kelvin:  308.15\n"
          ]
        }
      ]
    },
    {
      "cell_type": "code",
      "source": [
        "#Hacer un ejercicio en python haciendo uso de funciones de usuario, que calcule\n",
        "#el sueldo de un empleado, segun el numero de hrs trabajadas y el valor por hora\n",
        "def sueldo(numHrs, valorXhr):\n",
        "    sueldo = numHrs*valorXhr*30\n",
        "    return sueldo\n",
        "\n",
        "numHrs = float(input(\"Horas trabajadas: \"))\n",
        "valorXhr = float(input(\"Valor por hora: \"))\n",
        "sueldo_calculado = sueldo(numHrs, valorXhr)\n",
        "print(sueldo_calculado)"
      ],
      "metadata": {
        "colab": {
          "base_uri": "https://localhost:8080/"
        },
        "id": "22i2KLTchrVP",
        "outputId": "5a012200-18de-40d5-c706-7dc643137144"
      },
      "execution_count": null,
      "outputs": [
        {
          "output_type": "stream",
          "name": "stdout",
          "text": [
            "Horas trabajadas: 8\n",
            "Valor por hora: 5\n",
            "1200.0\n"
          ]
        }
      ]
    },
    {
      "cell_type": "code",
      "source": [
        "#Hacer un ejercicio en python haciendo uso de funciones de usuario, que permita elevar un numero a un exponente\n",
        "def exponencial (b,e):\n",
        "  return b**e\n",
        "\n",
        "b = float(input(\"Base: \"))\n",
        "e = float(input(\"Exponente: \"))\n",
        "\n",
        "\n",
        "resultado = exponencial (b,e)\n",
        "print (\"El numero\", b, \"elevado a\", e, \"el resultado es:\", resultado)"
      ],
      "metadata": {
        "id": "xFL8rDGSj_Gk",
        "outputId": "50743786-01b8-4ae5-95ae-4ea67bcdb09c",
        "colab": {
          "base_uri": "https://localhost:8080/"
        }
      },
      "execution_count": 8,
      "outputs": [
        {
          "output_type": "stream",
          "name": "stdout",
          "text": [
            "Base: 2\n",
            "Exponente: 4\n",
            "El numero 2.0 elevado a 4.0 el resultado es: 16.0\n"
          ]
        }
      ]
    },
    {
      "cell_type": "code",
      "source": [
        "#reduce\n",
        "from functools import reduce\n",
        "\n",
        "numeros =[5,4,9,6,8,2,3]\n",
        "suma = reduce (lambda acum, num: num+acum, numeros)\n",
        "\n",
        "sumaPares = reduce (lambda acum, num : num + acum, filter (lambda num: num % 2 == 0, numeros))\n",
        "sumaPar = reduce (lambda acum, num : acum + num if num%2==0 else acum, numeros, 0)\n",
        "\n",
        "print(\"La suma es: \", suma)\n",
        "print(\"La suma de los pares es: \", sumaPares)\n",
        "print(\"La suma de los pares es: \", sumaPar)"
      ],
      "metadata": {
        "colab": {
          "base_uri": "https://localhost:8080/"
        },
        "id": "fmKIkXfYZu5L",
        "outputId": "a3066b29-9d24-4e34-d90b-923b7e04cf8c"
      },
      "execution_count": 5,
      "outputs": [
        {
          "output_type": "stream",
          "name": "stdout",
          "text": [
            "La suma es:  37\n",
            "La suma de los pares es:  20\n",
            "La suma de los pares es:  20\n"
          ]
        }
      ]
    },
    {
      "cell_type": "code",
      "source": [
        "# Pedir las notas al usuario separadas por comas\n",
        "notas = input(\"Introduce las notas separadas por comas: \")\n",
        "\n",
        "notas = list(map(float, notas.split(\",\")))\n",
        "\n",
        "aprobados = list(filter(lambda n: n >= 6, notas))\n",
        "\n",
        "reprobados = list(filter(lambda n: n < 6, notas))\n",
        "\n",
        "print(f\"Notas ingresadas: {notas}\")\n",
        "print(f\"Aprobados: {len(aprobados)} → {aprobados}\")\n",
        "print(f\"Reprobados: {len(reprobados)} → {reprobados}\")\n"
      ],
      "metadata": {
        "id": "ntGCmN_Oc1kT"
      },
      "execution_count": null,
      "outputs": []
    },
    {
      "cell_type": "code",
      "source": [
        "#Tuplas\n",
        "\n",
        "tupla = (5, 3, 5)\n",
        "#tupla [0] = 5\n",
        "print(\"Tupla: \", tupla, \" primer elemento \", tupla[0],\" El numero 5 aparece \",tupla.count(5),\" veces\")\n",
        "print (\" Ultimo elemento: \", tupla[-1])\n",
        "print (\"Rango:\", tupla[0:5])"
      ],
      "metadata": {
        "colab": {
          "base_uri": "https://localhost:8080/"
        },
        "id": "Ww2-WnIxc9L1",
        "outputId": "8c1fc52d-425c-4570-e407-e5787c7a8ec5"
      },
      "execution_count": 18,
      "outputs": [
        {
          "output_type": "stream",
          "name": "stdout",
          "text": [
            "Tupla:  (5, 3, 5)  primer elemento  5  El numero 5 aparece  2  veces\n",
            " Ultimo elemento:  5\n",
            "Rango: (5, 3, 5)\n"
          ]
        }
      ]
    },
    {
      "cell_type": "code",
      "source": [
        "from types import DynamicClassAttribute\n",
        "import datetime\n",
        "fecha = datetime.date.today()\n",
        "\n",
        "semana = (\"Domingo\", \"Lunes\", \"Martes\", \"Miercoles\", \"Jueves\", \"Viernes\", \"Sabado\")\n",
        "meses = (\"\",\"Enero\", \"Febrero\", \"Marzo\", \"Abril\", \"Mayo\", \"Junio\", \"Julio\", \"Agosto\", \"Septiembre\", \"Octubre\", \"Noviembre\", \"Diciembre\")\n",
        "dia = fecha.day\n",
        "mes = fecha.month\n",
        "year = fecha.year\n",
        "diasemana = semana [fecha.isoweekday()]\n",
        "print(diasemana, dia, \"del\",meses [mes], \"del\", year)\n",
        "print(fecha,fecha.isoweekday(),diasemana)\n",
        "print(dia, mes, year)"
      ],
      "metadata": {
        "colab": {
          "base_uri": "https://localhost:8080/"
        },
        "id": "qXnHYqzAiUH4",
        "outputId": "0047ff74-13c1-41ea-e10a-57798d346258"
      },
      "execution_count": 30,
      "outputs": [
        {
          "output_type": "stream",
          "name": "stdout",
          "text": [
            "Martes 12 del Agosto del 2025\n",
            "2025-08-12 2 Martes\n",
            "12 8 2025\n"
          ]
        }
      ]
    },
    {
      "cell_type": "code",
      "source": [
        "lista = [5,8,9,4, \"Progra III\", True, [4,8,9,[8,9,4]]]\n",
        "print(lista)"
      ],
      "metadata": {
        "colab": {
          "base_uri": "https://localhost:8080/"
        },
        "id": "aJ6OLlyZmi05",
        "outputId": "dbcaf03e-db6b-4e91-a7ee-2850791b49d8"
      },
      "execution_count": 35,
      "outputs": [
        {
          "output_type": "stream",
          "name": "stdout",
          "text": [
            "[5, 8, 9, 4, 'Progra III', True, [4, 8, 9, [8, 9, 4]]]\n"
          ]
        }
      ]
    },
    {
      "cell_type": "code",
      "source": [],
      "metadata": {
        "id": "YfqZlHWonbbK"
      },
      "execution_count": null,
      "outputs": []
    },
    {
      "cell_type": "code",
      "source": [
        "#Hacer un ejercicio en python que obtenga la nota final de progra III del computo\n",
        "def CalcularPromedio (nota, notas):\n",
        " return notas [1]*notas[2] + nota\n",
        "from functools import reduce\n",
        "notas = [[\"La1\",8], [\"La2\",9], [\"Parcial\", 10, 0.4]]\n",
        "prom = reduce(CalcularPromedio, notas, 0)\n",
        "print(\"Nota Final:\", prom)"
      ],
      "metadata": {
        "colab": {
          "base_uri": "https://localhost:8080/",
          "height": 315
        },
        "id": "SdZMk5ERoHOU",
        "outputId": "bbce2805-ec0f-478a-db8f-1fd068a9f1b1"
      },
      "execution_count": 52,
      "outputs": [
        {
          "output_type": "error",
          "ename": "IndexError",
          "evalue": "list index out of range",
          "traceback": [
            "\u001b[0;31m---------------------------------------------------------------------------\u001b[0m",
            "\u001b[0;31mIndexError\u001b[0m                                Traceback (most recent call last)",
            "\u001b[0;32m/tmp/ipython-input-1906911581.py\u001b[0m in \u001b[0;36m<cell line: 0>\u001b[0;34m()\u001b[0m\n\u001b[1;32m      4\u001b[0m \u001b[0;32mfrom\u001b[0m \u001b[0mfunctools\u001b[0m \u001b[0;32mimport\u001b[0m \u001b[0mreduce\u001b[0m\u001b[0;34m\u001b[0m\u001b[0;34m\u001b[0m\u001b[0m\n\u001b[1;32m      5\u001b[0m \u001b[0mnotas\u001b[0m \u001b[0;34m=\u001b[0m \u001b[0;34m[\u001b[0m\u001b[0;34m[\u001b[0m\u001b[0;34m\"La1\"\u001b[0m\u001b[0;34m,\u001b[0m\u001b[0;36m8\u001b[0m\u001b[0;34m]\u001b[0m\u001b[0;34m,\u001b[0m \u001b[0;34m[\u001b[0m\u001b[0;34m\"La2\"\u001b[0m\u001b[0;34m,\u001b[0m\u001b[0;36m9\u001b[0m\u001b[0;34m]\u001b[0m\u001b[0;34m,\u001b[0m \u001b[0;34m[\u001b[0m\u001b[0;34m\"Parcial\"\u001b[0m\u001b[0;34m,\u001b[0m \u001b[0;36m10\u001b[0m\u001b[0;34m,\u001b[0m \u001b[0;36m0.4\u001b[0m\u001b[0;34m]\u001b[0m\u001b[0;34m]\u001b[0m\u001b[0;34m\u001b[0m\u001b[0;34m\u001b[0m\u001b[0m\n\u001b[0;32m----> 6\u001b[0;31m \u001b[0mprom\u001b[0m \u001b[0;34m=\u001b[0m \u001b[0mreduce\u001b[0m\u001b[0;34m(\u001b[0m\u001b[0mCalcularPromedio\u001b[0m\u001b[0;34m,\u001b[0m \u001b[0mnotas\u001b[0m\u001b[0;34m,\u001b[0m \u001b[0;36m0\u001b[0m\u001b[0;34m)\u001b[0m\u001b[0;34m\u001b[0m\u001b[0;34m\u001b[0m\u001b[0m\n\u001b[0m\u001b[1;32m      7\u001b[0m \u001b[0mprint\u001b[0m\u001b[0;34m(\u001b[0m\u001b[0;34m\"Nota Final:\"\u001b[0m\u001b[0;34m,\u001b[0m \u001b[0mprom\u001b[0m\u001b[0;34m)\u001b[0m\u001b[0;34m\u001b[0m\u001b[0;34m\u001b[0m\u001b[0m\n",
            "\u001b[0;32m/tmp/ipython-input-1906911581.py\u001b[0m in \u001b[0;36mCalcularPromedio\u001b[0;34m(nota, notas)\u001b[0m\n\u001b[1;32m      1\u001b[0m \u001b[0;31m#Hacer un ejercicio en python que obtenga la nota final de progra III del computo\u001b[0m\u001b[0;34m\u001b[0m\u001b[0;34m\u001b[0m\u001b[0m\n\u001b[1;32m      2\u001b[0m \u001b[0;32mdef\u001b[0m \u001b[0mCalcularPromedio\u001b[0m \u001b[0;34m(\u001b[0m\u001b[0mnota\u001b[0m\u001b[0;34m,\u001b[0m \u001b[0mnotas\u001b[0m\u001b[0;34m)\u001b[0m\u001b[0;34m:\u001b[0m\u001b[0;34m\u001b[0m\u001b[0;34m\u001b[0m\u001b[0m\n\u001b[0;32m----> 3\u001b[0;31m  \u001b[0;32mreturn\u001b[0m \u001b[0mnotas\u001b[0m \u001b[0;34m[\u001b[0m\u001b[0;36m1\u001b[0m\u001b[0;34m]\u001b[0m\u001b[0;34m*\u001b[0m\u001b[0mnotas\u001b[0m\u001b[0;34m[\u001b[0m\u001b[0;36m2\u001b[0m\u001b[0;34m]\u001b[0m \u001b[0;34m+\u001b[0m \u001b[0mnota\u001b[0m\u001b[0;34m\u001b[0m\u001b[0;34m\u001b[0m\u001b[0m\n\u001b[0m\u001b[1;32m      4\u001b[0m \u001b[0;32mfrom\u001b[0m \u001b[0mfunctools\u001b[0m \u001b[0;32mimport\u001b[0m \u001b[0mreduce\u001b[0m\u001b[0;34m\u001b[0m\u001b[0;34m\u001b[0m\u001b[0m\n\u001b[1;32m      5\u001b[0m \u001b[0mnotas\u001b[0m \u001b[0;34m=\u001b[0m \u001b[0;34m[\u001b[0m\u001b[0;34m[\u001b[0m\u001b[0;34m\"La1\"\u001b[0m\u001b[0;34m,\u001b[0m\u001b[0;36m8\u001b[0m\u001b[0;34m]\u001b[0m\u001b[0;34m,\u001b[0m \u001b[0;34m[\u001b[0m\u001b[0;34m\"La2\"\u001b[0m\u001b[0;34m,\u001b[0m\u001b[0;36m9\u001b[0m\u001b[0;34m]\u001b[0m\u001b[0;34m,\u001b[0m \u001b[0;34m[\u001b[0m\u001b[0;34m\"Parcial\"\u001b[0m\u001b[0;34m,\u001b[0m \u001b[0;36m10\u001b[0m\u001b[0;34m,\u001b[0m \u001b[0;36m0.4\u001b[0m\u001b[0;34m]\u001b[0m\u001b[0;34m]\u001b[0m\u001b[0;34m\u001b[0m\u001b[0;34m\u001b[0m\u001b[0m\n",
            "\u001b[0;31mIndexError\u001b[0m: list index out of range"
          ]
        }
      ]
    }
  ]
}