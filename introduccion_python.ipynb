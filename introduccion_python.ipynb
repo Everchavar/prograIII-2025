{
  "nbformat": 4,
  "nbformat_minor": 0,
  "metadata": {
    "colab": {
      "provenance": [],
      "authorship_tag": "ABX9TyMkwyqu4mQ1MleCkIHXkg3o",
      "include_colab_link": true
    },
    "kernelspec": {
      "name": "python3",
      "display_name": "Python 3"
    },
    "language_info": {
      "name": "python"
    }
  },
  "cells": [
    {
      "cell_type": "markdown",
      "metadata": {
        "id": "view-in-github",
        "colab_type": "text"
      },
      "source": [
        "<a href=\"https://colab.research.google.com/github/Everchavar/prograIII-2025/blob/main/introduccion_python.ipynb\" target=\"_parent\"><img src=\"https://colab.research.google.com/assets/colab-badge.svg\" alt=\"Open In Colab\"/></a>"
      ]
    },
    {
      "cell_type": "code",
      "execution_count": 3,
      "metadata": {
        "colab": {
          "base_uri": "https://localhost:8080/"
        },
        "id": "e1WIO85TbxWR",
        "outputId": "8c801d44-6ed2-49ca-f7a0-32c30d3e62e3"
      },
      "outputs": [
        {
          "output_type": "stream",
          "name": "stdout",
          "text": [
            "Hola mundo\n",
            "Bienvenidos a programacion computacional III\n"
          ]
        }
      ],
      "source": [
        "print(\"Hola mundo\")\n",
        "print(\"Bienvenidos a programacion computacional III\")"
      ]
    },
    {
      "cell_type": "code",
      "source": [
        "nombre = \"Ever Chavarria\"\n",
        "edad = 5\n",
        "print (nombre,edad)\n",
        "\n",
        "edad =\"cinco\"\n",
        "print (\"Tu edad :\", edad)"
      ],
      "metadata": {
        "colab": {
          "base_uri": "https://localhost:8080/"
        },
        "id": "DrSMcwG8dKxf",
        "outputId": "bb59d310-3740-4bb1-d865-f6d72105964b"
      },
      "execution_count": 6,
      "outputs": [
        {
          "output_type": "stream",
          "name": "stdout",
          "text": [
            "Ever Chavarria 5\n",
            "Tu edad : cinco\n"
          ]
        }
      ]
    },
    {
      "cell_type": "code",
      "source": [
        "num1 = 5\n",
        "num2 = 8.9\n",
        "suma = num1 + num2\n",
        "print (\"La suma es: \", suma)"
      ],
      "metadata": {
        "colab": {
          "base_uri": "https://localhost:8080/"
        },
        "id": "xxLSh5Icd1xX",
        "outputId": "3e24f696-3a18-4271-cf48-da33254fa2fa"
      },
      "execution_count": 7,
      "outputs": [
        {
          "output_type": "stream",
          "name": "stdout",
          "text": [
            "La suma es:  13.9\n"
          ]
        }
      ]
    },
    {
      "cell_type": "code",
      "source": [
        "num1 =float (input (\"num1: \"))\n",
        "num2 =float (input (\"num2: \"))\n",
        "suma =float (( num1 + num2))\n",
        "print (\"La suma es: \", suma)"
      ],
      "metadata": {
        "colab": {
          "base_uri": "https://localhost:8080/"
        },
        "id": "0FqcfVmxfj4e",
        "outputId": "f1a6f9b6-2c6f-4524-ff27-59b9820fc015"
      },
      "execution_count": 9,
      "outputs": [
        {
          "output_type": "stream",
          "name": "stdout",
          "text": [
            "num1: 5\n",
            "num2: 5\n",
            "La suma es:  10.0\n"
          ]
        }
      ]
    },
    {
      "cell_type": "code",
      "source": [
        "num1 =float (input (\"num1: \"))\n",
        "num2 =float (input (\"num2: \"))\n",
        "resta =float (( num1 - num2))\n",
        "print (\"La resta es: \", resta)\n"
      ],
      "metadata": {
        "colab": {
          "base_uri": "https://localhost:8080/"
        },
        "id": "oAILtqhBhyrp",
        "outputId": "f66e52c1-8f29-4546-8bb7-5f5a35ad5371"
      },
      "execution_count": 10,
      "outputs": [
        {
          "output_type": "stream",
          "name": "stdout",
          "text": [
            "num1: 3\n",
            "num2: 2\n",
            "La resta es:  1.0\n"
          ]
        }
      ]
    }
  ]
}