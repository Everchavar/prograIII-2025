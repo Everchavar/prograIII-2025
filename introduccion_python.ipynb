{
  "nbformat": 4,
  "nbformat_minor": 0,
  "metadata": {
    "colab": {
      "provenance": [],
      "authorship_tag": "ABX9TyNOc8ncb6hkAw01ogGd44jk",
      "include_colab_link": true
    },
    "kernelspec": {
      "name": "python3",
      "display_name": "Python 3"
    },
    "language_info": {
      "name": "python"
    }
  },
  "cells": [
    {
      "cell_type": "markdown",
      "metadata": {
        "id": "view-in-github",
        "colab_type": "text"
      },
      "source": [
        "<a href=\"https://colab.research.google.com/github/Everchavar/prograIII-2025/blob/main/introduccion_python.ipynb\" target=\"_parent\"><img src=\"https://colab.research.google.com/assets/colab-badge.svg\" alt=\"Open In Colab\"/></a>"
      ]
    },
    {
      "cell_type": "code",
      "execution_count": null,
      "metadata": {
        "colab": {
          "base_uri": "https://localhost:8080/"
        },
        "id": "e1WIO85TbxWR",
        "outputId": "8c801d44-6ed2-49ca-f7a0-32c30d3e62e3"
      },
      "outputs": [
        {
          "output_type": "stream",
          "name": "stdout",
          "text": [
            "Hola mundo\n",
            "Bienvenidos a programacion computacional III\n"
          ]
        }
      ],
      "source": [
        "print(\"Hola mundo\")\n",
        "print(\"Bienvenidos a programacion computacional III\")"
      ]
    },
    {
      "cell_type": "code",
      "source": [
        "nombre = \"Ever Chavarria\"\n",
        "edad = 5\n",
        "print (nombre,edad)\n",
        "\n",
        "edad =\"cinco\"\n",
        "print (\"Tu edad :\", edad)"
      ],
      "metadata": {
        "colab": {
          "base_uri": "https://localhost:8080/"
        },
        "id": "DrSMcwG8dKxf",
        "outputId": "bb59d310-3740-4bb1-d865-f6d72105964b"
      },
      "execution_count": null,
      "outputs": [
        {
          "output_type": "stream",
          "name": "stdout",
          "text": [
            "Ever Chavarria 5\n",
            "Tu edad : cinco\n"
          ]
        }
      ]
    },
    {
      "cell_type": "code",
      "source": [
        "num1 = 5\n",
        "num2 = 8.9\n",
        "suma = num1 + num2\n",
        "print (\"La suma es: \", suma)"
      ],
      "metadata": {
        "colab": {
          "base_uri": "https://localhost:8080/"
        },
        "id": "xxLSh5Icd1xX",
        "outputId": "3e24f696-3a18-4271-cf48-da33254fa2fa"
      },
      "execution_count": null,
      "outputs": [
        {
          "output_type": "stream",
          "name": "stdout",
          "text": [
            "La suma es:  13.9\n"
          ]
        }
      ]
    },
    {
      "cell_type": "code",
      "source": [
        "num1 =float (input (\"num1: \"))\n",
        "num2 =float (input (\"num2: \"))\n",
        "suma =float (( num1 + num2))\n",
        "print (\"La suma es: \", suma)"
      ],
      "metadata": {
        "colab": {
          "base_uri": "https://localhost:8080/"
        },
        "id": "0FqcfVmxfj4e",
        "outputId": "f1a6f9b6-2c6f-4524-ff27-59b9820fc015"
      },
      "execution_count": null,
      "outputs": [
        {
          "output_type": "stream",
          "name": "stdout",
          "text": [
            "num1: 5\n",
            "num2: 5\n",
            "La suma es:  10.0\n"
          ]
        }
      ]
    },
    {
      "cell_type": "code",
      "source": [
        "num1 =float (input (\"num1: \"))\n",
        "num2 =float (input (\"num2: \"))\n",
        "resta =float (( num1 - num2))\n",
        "print (\"La resta es: \", resta)\n"
      ],
      "metadata": {
        "colab": {
          "base_uri": "https://localhost:8080/"
        },
        "id": "oAILtqhBhyrp",
        "outputId": "f66e52c1-8f29-4546-8bb7-5f5a35ad5371"
      },
      "execution_count": null,
      "outputs": [
        {
          "output_type": "stream",
          "name": "stdout",
          "text": [
            "num1: 3\n",
            "num2: 2\n",
            "La resta es:  1.0\n"
          ]
        }
      ]
    },
    {
      "cell_type": "code",
      "source": [
        "#Restas\n",
        "res1 = int(input(\"ingrese el primer numero: \"))\n",
        "res2 = int(input(\"ingrese el segundo numero: \"))\n",
        "\n",
        "Respuesta = res1 - res2\n",
        "print(\"la resta de los numeros es:\", Respuesta)\n",
        "\n",
        "def restar_dos_numeros():\n",
        "    num1 = int(input(\"Ingrese el primer número: \"))\n",
        "    num2 = int(input(\"Ingrese el segundo número: \"))\n",
        "    return num1 - num2\n",
        "\n",
        "# Usando el resultado\n",
        "resultado = restar_dos_numeros()\n",
        "print(\"La resta de los números es:\", resultado)"
      ],
      "metadata": {
        "id": "JkHWEmqkWVAn"
      },
      "execution_count": null,
      "outputs": []
    },
    {
      "cell_type": "code",
      "source": [
        "#Hacer un ejercicio de python haciendo uso de las funciones de usuario, que convierta grados celcius a Farenheit\n",
        "def CelciusaFarenheit(c):\n",
        "   return c*1.8 + 32\n"
      ],
      "metadata": {
        "id": "DqljQ0uZWYb1"
      },
      "execution_count": null,
      "outputs": []
    },
    {
      "cell_type": "code",
      "source": [
        "def CelciusaFarenheit(c):\n",
        " return c*1.8 + 32\n",
        "\n",
        "c = int(input(\"Grados c: \"))\n",
        "f = CelciusaFarenheit(c)\n",
        "print(\"F: \", f)"
      ],
      "metadata": {
        "colab": {
          "base_uri": "https://localhost:8080/"
        },
        "id": "fJ7RtIbVYVnp",
        "outputId": "51d5243f-1947-49bb-b64c-2201a052be84"
      },
      "execution_count": 6,
      "outputs": [
        {
          "output_type": "stream",
          "name": "stdout",
          "text": [
            "Grados c: 38\n",
            "F:  100.4\n"
          ]
        }
      ]
    },
    {
      "cell_type": "code",
      "source": [
        "#Hacer un ejercicio de python haciendo uso de funciones de usuario, que covierta grados Farenheit a celcius\n",
        "\n",
        "def FarenheitCelcius(f):\n",
        "   return (f-32)/1.8\n",
        ""
      ],
      "metadata": {
        "id": "05jyO62caviv"
      },
      "execution_count": 13,
      "outputs": []
    },
    {
      "cell_type": "code",
      "source": [
        "  f  = float(input(\"Grados f: \"))\n",
        "  c = FarenheitCelcius(f)\n",
        "  print(\"c: \", c)"
      ],
      "metadata": {
        "colab": {
          "base_uri": "https://localhost:8080/"
        },
        "id": "V9RhuGPAcBhc",
        "outputId": "22e6fdda-1724-47f1-b7f7-308b9ffe6e16"
      },
      "execution_count": 15,
      "outputs": [
        {
          "output_type": "stream",
          "name": "stdout",
          "text": [
            "Grados f: 100.4\n",
            "c:  38.0\n"
          ]
        }
      ]
    },
    {
      "cell_type": "code",
      "source": [
        "#Hacer un ejercicio en python que covierta de grados celsius a kelvin\n",
        "\n",
        "def celsiuskelvin(celsius):\n",
        "  return celsius + 273.15\n",
        "\n",
        "celsius = float(input(\"Grados celsius: \"))\n",
        "kelvin = celsiuskelvin(celsius)\n",
        "print(\"Kelvin: \", kelvin)\n"
      ],
      "metadata": {
        "colab": {
          "base_uri": "https://localhost:8080/"
        },
        "id": "FMLSBlI3e9Uw",
        "outputId": "e56eb120-871a-44d0-d5b1-fa98b69c2d7e"
      },
      "execution_count": 25,
      "outputs": [
        {
          "output_type": "stream",
          "name": "stdout",
          "text": [
            "Grados celsius: 35\n",
            "Kelvin:  308.15\n"
          ]
        }
      ]
    },
    {
      "cell_type": "code",
      "source": [
        "#Hacer un ejercicio en python haciendo uso de funciones de usuario, que calcule\n",
        "#el sueldo de un empleado, segun el numero de hrs trabajadas y el valor por hora\n",
        "def sueldo(numHrs, valorXhr):\n",
        "    sueldo = numHrs*valorXhr*30\n",
        "    return sueldo\n",
        "\n",
        "numHrs = float(input(\"Horas trabajadas: \"))\n",
        "valorXhr = float(input(\"Valor por hora: \"))\n",
        "sueldo_calculado = sueldo(numHrs, valorXhr)\n",
        "print(sueldo_calculado)"
      ],
      "metadata": {
        "colab": {
          "base_uri": "https://localhost:8080/"
        },
        "id": "22i2KLTchrVP",
        "outputId": "5a012200-18de-40d5-c706-7dc643137144"
      },
      "execution_count": 34,
      "outputs": [
        {
          "output_type": "stream",
          "name": "stdout",
          "text": [
            "Horas trabajadas: 8\n",
            "Valor por hora: 5\n",
            "1200.0\n"
          ]
        }
      ]
    },
    {
      "cell_type": "code",
      "source": [
        "#Hacer un ejercicio en python haciendo uso de funciones de usuario, que permita elevar un numero a un exponente\n",
        " def exponencial (b,e)\n",
        "   return b**e\n",
        "\n",
        "  b = float(input(\"Base: \"))\n",
        "  e = float(input(\"Exponente: \"))\n",
        "\n",
        "\n",
        "resultado = exponencial (b,e)\n",
        "print (\"El numero\", b, \"elevado a\", e, \"el resultado es:\" resultado)"
      ],
      "metadata": {
        "id": "xFL8rDGSj_Gk",
        "outputId": "09cd28b9-fe1b-4996-9a0a-94a3685ed732",
        "colab": {
          "base_uri": "https://localhost:8080/",
          "height": 110
        }
      },
      "execution_count": 40,
      "outputs": [
        {
          "output_type": "error",
          "ename": "IndentationError",
          "evalue": "unindent does not match any outer indentation level (<tokenize>, line 5)",
          "traceback": [
            "\u001b[0;36m  File \u001b[0;32m\"<tokenize>\"\u001b[0;36m, line \u001b[0;32m5\u001b[0m\n\u001b[0;31m    b = float(input(\"Base: \"))\u001b[0m\n\u001b[0m    ^\u001b[0m\n\u001b[0;31mIndentationError\u001b[0m\u001b[0;31m:\u001b[0m unindent does not match any outer indentation level\n"
          ]
        }
      ]
    }
  ]
}